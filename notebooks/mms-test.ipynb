{
 "cells": [
  {
   "cell_type": "code",
   "execution_count": 1,
   "metadata": {},
   "outputs": [],
   "source": [
    "import os\n",
    "import torch\n",
    "from datasets import load_dataset, Audio\n",
    "from transformers import Wav2Vec2ForCTC, AutoProcessor\n",
    "from src.settings import settings"
   ]
  },
  {
   "cell_type": "code",
   "execution_count": 2,
   "metadata": {},
   "outputs": [
    {
     "name": "stderr",
     "output_type": "stream",
     "text": [
      "Reading metadata...: 16372it [00:00, 20141.31it/s]\n",
      "Reading metadata...: 1877it [00:00, 5226.65it/s]\n"
     ]
    }
   ],
   "source": [
    "# English\n",
    "stream_data = load_dataset(\n",
    "    \"mozilla-foundation/common_voice_13_0\",\n",
    "    \"en\",\n",
    "    split=\"test\",\n",
    "    streaming=True,\n",
    "    use_auth_token=settings.hf_auth_token,\n",
    ")\n",
    "stream_data = stream_data.cast_column(\"audio\", Audio(sampling_rate=16000))\n",
    "en_sample = next(iter(stream_data))[\"audio\"][\"array\"]\n",
    "\n",
    "# Mongolian\n",
    "stream_data = load_dataset(\n",
    "    \"mozilla-foundation/common_voice_13_0\",\n",
    "    \"mn\",\n",
    "    split=\"test\",\n",
    "    streaming=True,\n",
    "    use_auth_token=settings.hf_auth_token,\n",
    ")\n",
    "stream_data = stream_data.cast_column(\"audio\", Audio(sampling_rate=16000))\n",
    "mn_sample = next(iter(stream_data))[\"audio\"][\"array\"]"
   ]
  },
  {
   "cell_type": "code",
   "execution_count": 3,
   "metadata": {},
   "outputs": [],
   "source": [
    "model_id = \"facebook/mms-1b-all\"\n",
    "\n",
    "# facebook/mms-1b-fl102\n",
    "# facebook/mms-1b-l1107\n",
    "# facebook/mms-1b-all\n",
    "\n",
    "processor = AutoProcessor.from_pretrained(model_id)\n",
    "model = Wav2Vec2ForCTC.from_pretrained(model_id)"
   ]
  },
  {
   "cell_type": "code",
   "execution_count": 4,
   "metadata": {},
   "outputs": [
    {
     "data": {
      "text/plain": [
       "'joe keton disapproved of films and buster also had reservations about the media'"
      ]
     },
     "execution_count": 4,
     "metadata": {},
     "output_type": "execute_result"
    }
   ],
   "source": [
    "inputs = processor(en_sample, sampling_rate=16_000, return_tensors=\"pt\")\n",
    "\n",
    "with torch.no_grad():\n",
    "    outputs = model(**inputs).logits\n",
    "\n",
    "ids = torch.argmax(outputs, dim=-1)[0]\n",
    "transcription = processor.decode(ids)\n",
    "transcription\n",
    "# 'joe keton disapproved of films and buster also had reservations about the media'"
   ]
  },
  {
   "cell_type": "code",
   "execution_count": 14,
   "metadata": {},
   "outputs": [
    {
     "data": {
      "text/plain": [
       "'тэр тал дээр анхаар л хандуулж тусгай тугаар бэлтгэж гаргъя гэж ярилзсан'"
      ]
     },
     "execution_count": 14,
     "metadata": {},
     "output_type": "execute_result"
    }
   ],
   "source": [
    "processor.tokenizer.set_target_lang(\"mon\")\n",
    "model.load_adapter(\"mon\")\n",
    "\n",
    "inputs = processor(mn_sample, sampling_rate=16_000, return_tensors=\"pt\")\n",
    "\n",
    "with torch.no_grad():\n",
    "    outputs = model(**inputs).logits\n",
    "\n",
    "ids = torch.argmax(outputs, dim=-1)[0]\n",
    "transcription = processor.decode(ids)\n",
    "transcription\n",
    "# \n",
    "# => In English: \"soccer analysts describe Messi as the most dangerous player in the world\""
   ]
  }
 ],
 "metadata": {
  "kernelspec": {
   "display_name": "base",
   "language": "python",
   "name": "python3"
  },
  "language_info": {
   "codemirror_mode": {
    "name": "ipython",
    "version": 3
   },
   "file_extension": ".py",
   "mimetype": "text/x-python",
   "name": "python",
   "nbconvert_exporter": "python",
   "pygments_lexer": "ipython3",
   "version": "3.10.11"
  },
  "orig_nbformat": 4
 },
 "nbformat": 4,
 "nbformat_minor": 2
}
